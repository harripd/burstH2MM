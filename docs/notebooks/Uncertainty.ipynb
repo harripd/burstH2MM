{
 "cells": [
  {
   "cell_type": "markdown",
   "id": "3ef6e4ee",
   "metadata": {},
   "source": [
    "# Quantifying Accuracy/Precision of Model Parameter Values\n",
    "\n",
    "> **Note**\n",
    ">\n",
    "> Download the example file here: [HP3_TE300_SPC630.hdf5](https://zenodo.org/record/5902313/files/HP3_TE300_SPC630.hdf5)\n",
    "\n",
    "First, let's run the following code to generate a basic analysis for us to begin working with.\n",
    "This code is essential the same as that found in the [tutorial](#Tutorial)."
   ]
  },
  {
   "cell_type": "code",
   "execution_count": 1,
   "id": "bec4fd47",
   "metadata": {},
   "outputs": [
    {
     "name": "stdout",
     "output_type": "stream",
     "text": [
      " - Optimized (cython) burst search loaded.\n",
      " - Optimized (cython) photon counting loaded.\n",
      "--------------------------------------------------------------\n",
      " You are running FRETBursts (version 0.7.1).\n",
      "\n",
      " If you use this software please cite the following paper:\n",
      "\n",
      "   FRETBursts: An Open Source Toolkit for Analysis of Freely-Diffusing Single-Molecule FRET\n",
      "   Ingargiola et al. (2016). http://dx.doi.org/10.1371/journal.pone.0160716 \n",
      "\n",
      "--------------------------------------------------------------\n",
      "# Total photons (after ALEX selection):    11,414,157\n",
      "#  D  photons in D+A excitation periods:    5,208,392\n",
      "#  A  photons in D+A excitation periods:    6,205,765\n",
      "# D+A photons in  D  excitation period:     6,611,308\n",
      "# D+A photons in  A  excitation period:     4,802,849\n",
      "\n",
      " - Calculating BG rates ... get bg th arrays\n",
      "Channel 0\n",
      "[DONE]\n",
      " - Performing burst search (verbose=False) ...[DONE]\n",
      " - Calculating burst periods ...[DONE]\n",
      " - Counting D and A ph and calculating FRET ... \n",
      "   - Applying background correction.\n",
      "   [DONE Counting D/A]\n"
     ]
    },
    {
     "data": {
      "text/plain": [
       "The model converged after 1 iterations"
      ]
     },
     "metadata": {},
     "output_type": "display_data"
    },
    {
     "data": {
      "text/plain": [
       "The model converged after 36 iterations"
      ]
     },
     "metadata": {},
     "output_type": "display_data"
    },
    {
     "data": {
      "text/plain": [
       "The model converged after 128 iterations"
      ]
     },
     "metadata": {},
     "output_type": "display_data"
    },
    {
     "data": {
      "text/plain": [
       "The model converged after 404 iterations"
      ]
     },
     "metadata": {},
     "output_type": "display_data"
    },
    {
     "data": {
      "text/plain": [
       "2"
      ]
     },
     "execution_count": 1,
     "metadata": {},
     "output_type": "execute_result"
    }
   ],
   "source": [
    "import numpy as np\n",
    "from matplotlib import pyplot as plt\n",
    "\n",
    "import fretbursts as frb\n",
    "import burstH2MM as bhm\n",
    "\n",
    "filename = 'HP3_TE300_SPC630.hdf5'\n",
    "# load the data into the data object frbdata\n",
    "frbdata = frb.loader.photon_hdf5(filename)\n",
    "# if the alternation period is correct, apply data\n",
    "# plot the alternation histogram\n",
    "# frb.bpl.plot_alternation_hist(frbdata) # commented so not displayed in notebook\n",
    "frb.loader.alex_apply_period(frbdata)\n",
    "# calcualte the background rate\n",
    "frbdata.calc_bg(frb.bg.exp_fit, F_bg=1.7)\n",
    "# plot bg parameters, to verify quality\n",
    "# frb.dplot(frbdata, frb.hist_bg) # commented so not displayed in notebook\n",
    "# now perform burst search\n",
    "frbdata.burst_search(m=10, F=6)\n",
    "# make sure to set the appropriate thresholds of ALL size\n",
    "# parameters to the particulars of your experiment\n",
    "frbdata_sel = frbdata.select_bursts(frb.select_bursts.size, th1=50)\n",
    "# make BurstData object to get data into bursth2MM\n",
    "bdata = bhm.BurstData(frbdata_sel)\n",
    "# calculate models\n",
    "bdata.models.calc_models()"
   ]
  },
  {
   "cell_type": "markdown",
   "id": "710bb05b",
   "metadata": {},
   "source": [
    "So it looks like the 4 state model is the ideal model, so we will use it going forward\n",
    "\n",
    "<a id='bootstrap'></a>\n",
    "# Bootstrap method\n",
    "\n",
    "Perhaps the easiest to understand method for quantifying uncertainty in a model is the bootstrap method.\n",
    "In this method, the bursts are split up into $N$ subsets, and separate optimizations are run on each subset.\n",
    "Then the variance of each parameter value across the $N$ different subsets serves as a quantification of the uncertainty.\n",
    "\n",
    "In burstH2MM, the `H2MM_result` object has the `bootstrap_eval()` method which performs this operation.\n",
    "\n",
    "`bootstram_eval()` has one keyword argument: `subsets` by which you can specify the number of subsets to divide the data into. \n",
    "The default is 10, which is usually a good compromise."
   ]
  },
  {
   "cell_type": "code",
   "execution_count": 2,
   "id": "830fecbb",
   "metadata": {
    "scrolled": true
   },
   "outputs": [
    {
     "data": {
      "text/plain": [
       "The model converged after 284 iterations"
      ]
     },
     "metadata": {},
     "output_type": "display_data"
    },
    {
     "data": {
      "text/plain": [
       "The model converged after 222 iterations"
      ]
     },
     "metadata": {},
     "output_type": "display_data"
    },
    {
     "data": {
      "text/plain": [
       "The model converged after 2035 iterations"
      ]
     },
     "metadata": {},
     "output_type": "display_data"
    },
    {
     "data": {
      "text/plain": [
       "The model converged after 230 iterations"
      ]
     },
     "metadata": {},
     "output_type": "display_data"
    },
    {
     "data": {
      "text/plain": [
       "The model converged after 275 iterations"
      ]
     },
     "metadata": {},
     "output_type": "display_data"
    },
    {
     "data": {
      "text/plain": [
       "(array([[89.31507039, 60.39327794, 51.39792885],\n",
       "        [32.52743518, 36.89794537, 24.65784844],\n",
       "        [ 8.20597788, 16.43889435, 12.39366764]]),\n",
       " array([0.02551389, 0.00435776, 0.00127755]),\n",
       " array([0.00960336, 0.00264026, 0.00212474]))"
      ]
     },
     "execution_count": 2,
     "metadata": {},
     "output_type": "execute_result"
    }
   ],
   "source": [
    "bdata.models[2].bootstrap_eval(subsets=5)"
   ]
  },
  {
   "cell_type": "markdown",
   "id": "f28ffda6",
   "metadata": {},
   "source": [
    "Note how the number of subsets is the number of optimizations. This method automatically stores the results in the `H2MM_result.bootstrap_err` attribute, and the transition rate, E, and S values are also supplied as return values.\n",
    "\n",
    "Once you run bootstrap_eval, you can now access `trans_std_bs`, `E_std_bs`, `S_std_bs` attributes of `H2MM_result`, which are the standard deviations of each parameter of the optimized models of the subsets."
   ]
  },
  {
   "cell_type": "code",
   "execution_count": 3,
   "id": "344e83ad",
   "metadata": {},
   "outputs": [
    {
     "data": {
      "text/plain": [
       "array([[89.31507039, 60.39327794, 51.39792885],\n",
       "       [32.52743518, 36.89794537, 24.65784844],\n",
       "       [ 8.20597788, 16.43889435, 12.39366764]])"
      ]
     },
     "execution_count": 3,
     "metadata": {},
     "output_type": "execute_result"
    }
   ],
   "source": [
    "bdata.models[2].trans_std_bs"
   ]
  },
  {
   "cell_type": "code",
   "execution_count": 4,
   "id": "8de8af42",
   "metadata": {},
   "outputs": [
    {
     "data": {
      "text/plain": [
       "(array([0.02551389, 0.00435776, 0.00127755]),\n",
       " array([0.00960336, 0.00264026, 0.00212474]))"
      ]
     },
     "execution_count": 4,
     "metadata": {},
     "output_type": "execute_result"
    }
   ],
   "source": [
    "bdata.models[2].E_std_bs, bdata.models[2].S_std_bs"
   ]
  },
  {
   "cell_type": "markdown",
   "id": "fa3f8fe7",
   "metadata": {},
   "source": [
    "### Closer examination of models\n",
    "\n",
    "`H2MM_result.boostrap_err` attribute allows closer examination of these subsets.\n",
    "This attribute is an instance of the class `ModelError.Bootstrap_Error`, which is made to coordinate the bootstrap evaluation.\n",
    "The `H2MM_result` attributes `H2MM_result.trans_std_bs`, `H2MM_result.E_std_bs`, `H2MM_result.S_std_bs` are just aliases of the attributes of `ModelError.Bootstrap_Error.trans_std`, `ModelError.Bootstrap_Error.E_std`, and `ModelError.Bootstrap_Error.S_std` in its `H2MM_result.bootstrap_err` attribute."
   ]
  },
  {
   "cell_type": "code",
   "execution_count": 5,
   "id": "b1990f6c",
   "metadata": {},
   "outputs": [
    {
     "data": {
      "text/plain": [
       "array([[89.31507039, 60.39327794, 51.39792885],\n",
       "       [32.52743518, 36.89794537, 24.65784844],\n",
       "       [ 8.20597788, 16.43889435, 12.39366764]])"
      ]
     },
     "execution_count": 5,
     "metadata": {},
     "output_type": "execute_result"
    }
   ],
   "source": [
    "bdata.models[2].bootstrap_err.trans_std"
   ]
  },
  {
   "cell_type": "code",
   "execution_count": 6,
   "id": "0a31caff",
   "metadata": {},
   "outputs": [
    {
     "data": {
      "text/plain": [
       "(array([0.02551389, 0.00435776, 0.00127755]),\n",
       " array([0.00960336, 0.00264026, 0.00212474]))"
      ]
     },
     "execution_count": 6,
     "metadata": {},
     "output_type": "execute_result"
    }
   ],
   "source": [
    "bdata.models[2].bootstrap_err.E_std, bdata.models[2].bootstrap_err.S_std"
   ]
  },
  {
   "cell_type": "markdown",
   "id": "05af3cfb",
   "metadata": {},
   "source": [
    "For E and S, the leakage/direct excitation/$\\gamma$ and $\\beta$ correct values: `ModelError.Boostrap_Error.E_std_corr`, and `ModelError.Boostrap_Error.S_std_corr`"
   ]
  },
  {
   "cell_type": "code",
   "execution_count": 7,
   "id": "20ffd216",
   "metadata": {},
   "outputs": [
    {
     "data": {
      "text/plain": [
       "(array([0.02551389, 0.00435776, 0.00127755]),\n",
       " array([0.00960336, 0.00264026, 0.00212474]))"
      ]
     },
     "execution_count": 7,
     "metadata": {},
     "output_type": "execute_result"
    }
   ],
   "source": [
    "bdata.models[2].bootstrap_err.E_std_corr, bdata.models[2].bootstrap_err.S_std_corr"
   ]
  },
  {
   "cell_type": "markdown",
   "id": "344ed7ba",
   "metadata": {},
   "source": [
    "If on the other hand, you would prefer to take the standard error, instead of standard deviation of the subsets, there are equivalent attributes `ModelError.Boostrap_Error.trans_err`, `ModelError.Boostrap_Error.E_err`, and `ModelError.Boostrap_Error.S_err`. "
   ]
  },
  {
   "cell_type": "code",
   "execution_count": 8,
   "id": "a54315fa",
   "metadata": {},
   "outputs": [
    {
     "data": {
      "text/plain": [
       "array([[39.94291376, 27.00869497, 22.98585256],\n",
       "       [14.54671124, 16.50126282, 11.02732506],\n",
       "       [ 3.66982487,  7.35169705,  5.54261666]])"
      ]
     },
     "execution_count": 8,
     "metadata": {},
     "output_type": "execute_result"
    }
   ],
   "source": [
    "bdata.models[2].bootstrap_err.trans_err"
   ]
  },
  {
   "cell_type": "code",
   "execution_count": 9,
   "id": "207822f9",
   "metadata": {},
   "outputs": [
    {
     "data": {
      "text/plain": [
       "(array([0.01141016, 0.00194885, 0.00057134]),\n",
       " array([0.00429475, 0.00118076, 0.00095021]))"
      ]
     },
     "execution_count": 9,
     "metadata": {},
     "output_type": "execute_result"
    }
   ],
   "source": [
    "bdata.models[2].bootstrap_err.E_err, bdata.models[2].bootstrap_err.S_err"
   ]
  },
  {
   "cell_type": "markdown",
   "id": "cce4f7a7",
   "metadata": {},
   "source": [
    "For E and S, the leakage/direct excitation/$\\gamma$ and $\\beta$ correct values: `ModelError.Boostrap_Error.E_err_corr`, and `ModelError.Boostrap_Error.S_err_corr`"
   ]
  },
  {
   "cell_type": "code",
   "execution_count": 10,
   "id": "0a35b21a",
   "metadata": {},
   "outputs": [
    {
     "data": {
      "text/plain": [
       "(array([0.01141016, 0.00194885, 0.00057134]),\n",
       " array([0.00429475, 0.00118076, 0.00095021]))"
      ]
     },
     "execution_count": 10,
     "metadata": {},
     "output_type": "execute_result"
    }
   ],
   "source": [
    "bdata.models[2].bootstrap_err.E_err_corr, bdata.models[2].bootstrap_err.S_err_corr"
   ]
  },
  {
   "cell_type": "markdown",
   "id": "fa67ea1b",
   "metadata": {},
   "source": [
    "You can also see the values of the individual subset models.\n",
    "This is done through the attribute `ModelError.Bootstrap_Error.models`.\n",
    "\n",
    "\n",
    "This attribute is again another special class, `ModelError.ModelSet` used for organizing models that vary only in their specific parameter values, but share the same number of states, and data and divisor scheme.\n",
    "It lets you access the transition rate, E and S values as attributes, and for E and S, access these with the `ModelError.ModelSet.trans`, `ModelError.ModelSet.E`, `ModelError.ModelSet.S` attributes respectively. For E and S, the leakage/direct excitation/$\\gamma$ and $\\beta$ correct values are accessible with the `ModelError.ModelSet.E_corr` and `ModelError.ModelSet.S_corr` attributes.\n",
    "\n",
    "The organization of these arrays is `[state, subset]` for E and S, and `[from_state, to_state, subset]` for transition rates. "
   ]
  },
  {
   "cell_type": "code",
   "execution_count": 11,
   "id": "944779c1",
   "metadata": {},
   "outputs": [
    {
     "data": {
      "text/plain": [
       "array([[[1.99993025e+07, 5.47412479e+02, 1.50107233e+02],\n",
       "        [2.56911279e+02, 1.99996697e+07, 7.33962982e+01],\n",
       "        [2.71843192e+01, 9.25544845e+01, 1.99998803e+07]],\n",
       "\n",
       "       [[1.99994454e+07, 5.01289484e+02, 5.33487918e+01],\n",
       "        [2.02533276e+02, 1.99996915e+07, 1.06001447e+02],\n",
       "        [7.16687668e+00, 1.38306798e+02, 1.99998545e+07]],\n",
       "\n",
       "       [[1.99994312e+07, 5.68807994e+02, 2.00516546e-05],\n",
       "        [2.15768390e+02, 1.99996411e+07, 1.43089272e+02],\n",
       "        [4.79837333e+00, 1.25242149e+02, 1.99998700e+07]],\n",
       "\n",
       "       [[1.99995343e+07, 4.36097878e+02, 2.95649436e+01],\n",
       "        [1.55146896e+02, 1.99997508e+07, 9.40438423e+01],\n",
       "        [7.29033218e+00, 1.10009161e+02, 1.99998827e+07]],\n",
       "\n",
       "       [[1.99993033e+07, 6.12696740e+02, 8.40202867e+01],\n",
       "        [2.11897792e+02, 1.99997083e+07, 7.98317553e+01],\n",
       "        [8.19460327e+00, 1.01374391e+02, 1.99998904e+07]]])"
      ]
     },
     "execution_count": 11,
     "metadata": {},
     "output_type": "execute_result"
    }
   ],
   "source": [
    "bdata.models[2].bootstrap_err.models.trans"
   ]
  },
  {
   "cell_type": "code",
   "execution_count": 12,
   "id": "7adef573",
   "metadata": {
    "scrolled": true
   },
   "outputs": [
    {
     "data": {
      "text/plain": [
       "(array([[0.63874835, 0.16143699, 0.06563951],\n",
       "        [0.66284055, 0.15296922, 0.06698833],\n",
       "        [0.67054299, 0.15811327, 0.06875795],\n",
       "        [0.62598317, 0.16620047, 0.06867949],\n",
       "        [0.69909412, 0.15815618, 0.06616314]]),\n",
       " array([[0.43073863, 0.55001657, 0.97045621],\n",
       "        [0.43598782, 0.55806883, 0.97225223],\n",
       "        [0.43725447, 0.55429823, 0.9687245 ],\n",
       "        [0.43685134, 0.55273276, 0.96839454],\n",
       "        [0.41192581, 0.55269972, 0.97400269]]))"
      ]
     },
     "execution_count": 12,
     "metadata": {},
     "output_type": "execute_result"
    }
   ],
   "source": [
    "bdata.models[2].bootstrap_err.models.E, bdata.models[2].bootstrap_err.models.S"
   ]
  },
  {
   "cell_type": "code",
   "execution_count": 13,
   "id": "9ffb39d2",
   "metadata": {},
   "outputs": [
    {
     "data": {
      "text/plain": [
       "(array([[0.63874835, 0.16143699, 0.06563951],\n",
       "        [0.66284055, 0.15296922, 0.06698833],\n",
       "        [0.67054299, 0.15811327, 0.06875795],\n",
       "        [0.62598317, 0.16620047, 0.06867949],\n",
       "        [0.69909412, 0.15815618, 0.06616314]]),\n",
       " array([[0.43073863, 0.55001657, 0.97045621],\n",
       "        [0.43598782, 0.55806883, 0.97225223],\n",
       "        [0.43725447, 0.55429823, 0.9687245 ],\n",
       "        [0.43685134, 0.55273276, 0.96839454],\n",
       "        [0.41192581, 0.55269972, 0.97400269]]))"
      ]
     },
     "execution_count": 13,
     "metadata": {},
     "output_type": "execute_result"
    }
   ],
   "source": [
    "bdata.models[2].bootstrap_err.models.E_corr, bdata.models[2].bootstrap_err.models.S_corr"
   ]
  },
  {
   "cell_type": "markdown",
   "id": "c9d6aecf",
   "metadata": {},
   "source": [
    "## Loglikelihood Uncertainty Evaluation\n",
    "\n",
    "The bootstrap error is very simple, however, it also can take a long time, and the particular subsets used may have a significant influence on the calculated values.\n",
    "\n",
    "### What is loglikelihood uncertainty?\n",
    "\n",
    "The assessment of the loglikelihood uncertainties relies on finding the loglikelihood of models where one of the model parameter values has been offset from the optimal value.\n",
    "While a full statistical analysis would require integration across the whole parameter space, we note that the loglikelihoods generally distribute in a Gaussian-like manner, and therefore we can approximate the uncertainty by finding the point at which the loglikelihood is some amount less than the optimal model:\n",
    "\n",
    "$ LL(\\lambda _{\\Delta E_{n}}) = LL(\\lambda _{optimal}) - 0.5$\n",
    "\n",
    "There are two points at which this is true, one where $E_{n}$ is greater than the optimal $E_{n}$, and another, where $E_{n}$ is less than the optimal $E_{n}$, denoted $E_{n, high}$ and $E_{n, low}$ respectively. \n",
    "\n",
    "The errors reported are thus:\n",
    "\n",
    "$err_{LL}(E) = \\frac{E_{n,high} - E_{n,low}}{2}$\n",
    "\n",
    "Note that in most cases, $E_{n, high} - E_{n, optimal} \\approx E_{n, optimal} - E_{n, low}$\n",
    "\n",
    "This is not true however, for transition rates, and thus, in lieu of reporting an average value to represent a +/- type of error, instead we report directly the high and low transition rates.\n",
    "\n",
    "\n",
    "### Calculating loglikelihood uncertainty\n",
    "\n",
    "Estimation of Loglikelihood uncertainty is handled by `ModelError.Loglik_Error` objects, which are created automatically when a `H2MM_result` object is created, and stored in the `H2MM_result.loglik_err` attribute.\n",
    "Upon its creation, no values are actually calculated, only the skeleton exists.\n",
    "\n",
    "All parameter times (E/S/transition rates) follow the same basic rules, so we will start by demonstrating uncertainty estimation for E.\n",
    "\n",
    "To estimate the uncertainty for E, we use the `ModelError.Loglik_Error.get_E_err()` method."
   ]
  },
  {
   "cell_type": "code",
   "execution_count": 14,
   "id": "45b753ce",
   "metadata": {},
   "outputs": [
    {
     "data": {
      "text/plain": [
       "0.005624999999999991"
      ]
     },
     "execution_count": 14,
     "metadata": {},
     "output_type": "execute_result"
    }
   ],
   "source": [
    "E_err = bdata.models[2].loglik_err.get_E_err(0)\n",
    "E_err"
   ]
  },
  {
   "cell_type": "markdown",
   "id": "5d4acd59",
   "metadata": {},
   "source": [
    "The equivalent for the stoichiometry is `ModelError.Loglik_Error.get_S_err()`:"
   ]
  },
  {
   "cell_type": "code",
   "execution_count": 15,
   "id": "b498cd4b",
   "metadata": {
    "scrolled": false
   },
   "outputs": [
    {
     "data": {
      "text/plain": [
       "0.00077636718749996"
      ]
     },
     "execution_count": 15,
     "metadata": {},
     "output_type": "execute_result"
    }
   ],
   "source": [
    "S_err = bdata.models[2].loglik_err.get_S_err(2)\n",
    "S_err"
   ]
  },
  {
   "cell_type": "markdown",
   "id": "f313e780",
   "metadata": {},
   "source": [
    "These value indicate the point at which models where a given parameter value is varied from the optimal, have a loglikelihood 0.5 less than the optimal model, ie:\n",
    "\n",
    "$ LL(\\lambda _{\\Delta E_{n}}) = LL(\\lambda _{optimal}) - 0.5$\n",
    "\n",
    "There are two points at which this is true, one where $E_{n}$ is greater than the optimal $E_{n}$, and another, where $E_{n}$ is less than the optimal $E_{n}$, denoted $E_{n, high}$ and $E_{n, low}$ respectively. \n",
    "\n",
    "The errors reported are thus:\n",
    "\n",
    "$err_{LL}(E) = \\frac{E_{n,high} - E_{n,low}}{2}$\n",
    "\n",
    "Note that in most cases, $E_{n, high} - E_{n, optimal} \\approx E_{n, optimal} - E_{n, low}$\n",
    "\n",
    "This is not true however, for transition rates, and thus, in lieu of reporting an average value to represent a +/- type of error, instead we report directly the high and low transition rates."
   ]
  },
  {
   "cell_type": "code",
   "execution_count": 16,
   "id": "5f310745",
   "metadata": {},
   "outputs": [
    {
     "data": {
      "text/plain": [
       "masked_array(data=[501.85880590306624, 562.3571669228369],\n",
       "             mask=[False, False],\n",
       "       fill_value=inf)"
      ]
     },
     "execution_count": 16,
     "metadata": {},
     "output_type": "execute_result"
    }
   ],
   "source": [
    "trans_err = bdata.models[2].loglik_err.get_trans_err(0,1)\n",
    "trans_err"
   ]
  },
  {
   "cell_type": "markdown",
   "id": "d725520b",
   "metadata": {},
   "source": [
    "The `ModelError.Loglik_Error.get_E/S_err()` methods also allow passing the keyword parameter `simple` as `simple=False` to return the low/high values like `ModelError.Loglik_Error.get_trans_err()`"
   ]
  },
  {
   "cell_type": "code",
   "execution_count": 17,
   "id": "7b9ba05d",
   "metadata": {},
   "outputs": [
    {
     "data": {
      "text/plain": [
       "masked_array(data=[0.6546853599116281, 0.6659353599116281],\n",
       "             mask=[False, False],\n",
       "       fill_value=nan)"
      ]
     },
     "execution_count": 17,
     "metadata": {},
     "output_type": "execute_result"
    }
   ],
   "source": [
    "E_err = bdata.models[2].loglik_err.get_E_err(0, simple=False)\n",
    "E_err"
   ]
  },
  {
   "cell_type": "code",
   "execution_count": 18,
   "id": "d3ea4678",
   "metadata": {},
   "outputs": [
    {
     "data": {
      "text/plain": [
       "masked_array(data=[0.4273356364488786, 0.43415204269887864],\n",
       "             mask=[False, False],\n",
       "       fill_value=nan)"
      ]
     },
     "execution_count": 18,
     "metadata": {},
     "output_type": "execute_result"
    }
   ],
   "source": [
    "S_err = bdata.models[2].loglik_err.get_S_err(0, simple=False)\n",
    "S_err"
   ]
  },
  {
   "cell_type": "markdown",
   "id": "ee30b991",
   "metadata": {},
   "source": [
    "## Accessing Values Previously Calculated\n",
    "\n",
    "Calculations of the uncertainty values are stored in masked arrays, so that only calculated values are available.\n",
    "These can be accessed through the attributes `ModelError.Loglik_Error.E`, `ModelError.Loglik_Error.S`, `ModelError.Loglik_Error.trans`."
   ]
  },
  {
   "cell_type": "code",
   "execution_count": 19,
   "id": "9a5f2313",
   "metadata": {},
   "outputs": [
    {
     "data": {
      "text/plain": [
       "masked_array(\n",
       "  data=[[[--, --],\n",
       "         [501.85880590306624, 562.3571669228369],\n",
       "         [--, --]],\n",
       "\n",
       "        [[--, --],\n",
       "         [--, --],\n",
       "         [--, --]],\n",
       "\n",
       "        [[--, --],\n",
       "         [--, --],\n",
       "         [--, --]]],\n",
       "  mask=[[[ True,  True],\n",
       "         [False, False],\n",
       "         [ True,  True]],\n",
       "\n",
       "        [[ True,  True],\n",
       "         [ True,  True],\n",
       "         [ True,  True]],\n",
       "\n",
       "        [[ True,  True],\n",
       "         [ True,  True],\n",
       "         [ True,  True]]],\n",
       "  fill_value=inf)"
      ]
     },
     "execution_count": 19,
     "metadata": {},
     "output_type": "execute_result"
    }
   ],
   "source": [
    "bdata.models[2].loglik_err.trans"
   ]
  },
  {
   "cell_type": "code",
   "execution_count": 20,
   "id": "0a674c6d",
   "metadata": {},
   "outputs": [
    {
     "data": {
      "text/plain": [
       "masked_array(data=[0.005624999999999991, --, --],\n",
       "             mask=[False,  True,  True],\n",
       "       fill_value=nan)"
      ]
     },
     "execution_count": 20,
     "metadata": {},
     "output_type": "execute_result"
    }
   ],
   "source": [
    "bdata.models[2].loglik_err.E"
   ]
  },
  {
   "cell_type": "code",
   "execution_count": 21,
   "id": "d50bc959",
   "metadata": {},
   "outputs": [
    {
     "data": {
      "text/plain": [
       "masked_array(data=[0.003408203125000009, --, 0.00077636718749996],\n",
       "             mask=[False,  True, False],\n",
       "       fill_value=nan)"
      ]
     },
     "execution_count": 21,
     "metadata": {},
     "output_type": "execute_result"
    }
   ],
   "source": [
    "bdata.models[2].loglik_err.S"
   ]
  },
  {
   "cell_type": "markdown",
   "id": "4ba20909",
   "metadata": {},
   "source": [
    "The `ModelError.Loglik_Error.E` and `ModelError.Loglik_Error.S` are a little more processed than the `ModelError.Loglik_Error.trans`, as these do not show the low/high directly for a given state, but rather show half the difference between them.\n",
    "\n",
    "\n",
    "If you want to see the actual low and high values, these can be accessed with the `ModelError.Loglik_Error.E_lh` and `ModelError.Loglik_Error.S_lh` attributes (this is basically the same as passing the `simple=False` keyword argument to `ModelError.Loglik_Error.get_E/S_err()`):"
   ]
  },
  {
   "cell_type": "code",
   "execution_count": 22,
   "id": "d50f1b6d",
   "metadata": {
    "scrolled": true
   },
   "outputs": [
    {
     "data": {
      "text/plain": [
       "masked_array(\n",
       "  data=[[0.6546853599116281, 0.6659353599116281],\n",
       "        [--, --],\n",
       "        [--, --]],\n",
       "  mask=[[False, False],\n",
       "        [ True,  True],\n",
       "        [ True,  True]],\n",
       "  fill_value=nan)"
      ]
     },
     "execution_count": 22,
     "metadata": {},
     "output_type": "execute_result"
    }
   ],
   "source": [
    "bdata.models[2].loglik_err.E_lh"
   ]
  },
  {
   "cell_type": "code",
   "execution_count": 23,
   "id": "85533278",
   "metadata": {},
   "outputs": [
    {
     "data": {
      "text/plain": [
       "masked_array(\n",
       "  data=[[0.4273356364488786, 0.43415204269887864],\n",
       "        [--, --],\n",
       "        [0.9700226579124809, 0.9715753922874808]],\n",
       "  mask=[[False, False],\n",
       "        [ True,  True],\n",
       "        [False, False]],\n",
       "  fill_value=nan)"
      ]
     },
     "execution_count": 23,
     "metadata": {},
     "output_type": "execute_result"
    }
   ],
   "source": [
    "bdata.models[2].loglik_err.S_lh"
   ]
  },
  {
   "cell_type": "markdown",
   "id": "a93613e3",
   "metadata": {},
   "source": [
    "Concluding this list of access attributes, the loglikelihood values of these models are also stored in the `ModelError.Loglik_Error.E_ll`, `ModelError.Loglik_Error.S_ll`, and `ModelError.Loglik_Error.trans_ll`attributes:"
   ]
  },
  {
   "cell_type": "code",
   "execution_count": 24,
   "id": "5ccdb91f",
   "metadata": {
    "scrolled": true
   },
   "outputs": [
    {
     "data": {
      "text/plain": [
       "masked_array(\n",
       "  data=[[-133208.37002081453, -133208.37125588214],\n",
       "        [--, --],\n",
       "        [--, --]],\n",
       "  mask=[[False, False],\n",
       "        [ True,  True],\n",
       "        [ True,  True]],\n",
       "  fill_value=-inf)"
      ]
     },
     "execution_count": 24,
     "metadata": {},
     "output_type": "execute_result"
    }
   ],
   "source": [
    "bdata.models[2].loglik_err.E_ll"
   ]
  },
  {
   "cell_type": "code",
   "execution_count": 25,
   "id": "00df5594",
   "metadata": {},
   "outputs": [
    {
     "data": {
      "text/plain": [
       "masked_array(\n",
       "  data=[[-133208.36515007343, -133208.36806724552],\n",
       "        [--, --],\n",
       "        [-133208.36725677078, -133208.36851899838]],\n",
       "  mask=[[False, False],\n",
       "        [ True,  True],\n",
       "        [False, False]],\n",
       "  fill_value=-inf)"
      ]
     },
     "execution_count": 25,
     "metadata": {},
     "output_type": "execute_result"
    }
   ],
   "source": [
    "bdata.models[2].loglik_err.S_ll"
   ]
  },
  {
   "cell_type": "markdown",
   "id": "1404bab1",
   "metadata": {},
   "source": [
    "### Adjusting thresholds\n",
    "\n",
    "From the earlier equation, the estimated error is defined by having a loglikelihood $0.5$ less than the optimal, however, if you wish to change this threshold, to say $1.0$, this can be done (before running any `get_` method) by setting the `ModelError.Loglik_Error.thresh` attribute:"
   ]
  },
  {
   "cell_type": "code",
   "execution_count": 26,
   "id": "23d0f868",
   "metadata": {},
   "outputs": [
    {
     "data": {
      "text/plain": [
       "0.00277343749999992"
      ]
     },
     "execution_count": 26,
     "metadata": {},
     "output_type": "execute_result"
    }
   ],
   "source": [
    "bdata.models[2].loglik_err.thresh = 1.0\n",
    "S_err = bdata.models[2].loglik_err.get_S_err(1)\n",
    "S_err"
   ]
  },
  {
   "cell_type": "markdown",
   "id": "82b8c950",
   "metadata": {},
   "source": [
    "Another factor that can be adjusted is how precisely the search algorithm needs to find the loglikelihood, this factor is stored in the `ModelError.Loglik_Error.flex` attribute. The default is $0.005$"
   ]
  },
  {
   "cell_type": "code",
   "execution_count": 27,
   "id": "0b2927d8",
   "metadata": {},
   "outputs": [
    {
     "data": {
      "text/plain": [
       "0.002695312500000005"
      ]
     },
     "execution_count": 27,
     "metadata": {},
     "output_type": "execute_result"
    }
   ],
   "source": [
    "bdata.models[2].loglik_err.flex = 5e-2\n",
    "E_err = bdata.models[2].loglik_err.get_E_err(1)\n",
    "E_err"
   ]
  },
  {
   "cell_type": "markdown",
   "id": "5d0d4179",
   "metadata": {},
   "source": [
    "These set univeral threshold/flex values, is generally preferred, these values can be altered for each calculation.\n",
    "This works by passing `thresh` and `flex` keyword arguments to the `get_E/S/trans_err()`.\n",
    "\n",
    "> **Warning**\n",
    ">\n",
    "> Passing `thresh` and `flex` keyword arguments to the `get_E/S/trans_err()` will only affect the current calculation.\n",
    "> Therefore all other calculations will have different `thresh` and `flex` values, and therefore will not be comparable to one another.\n",
    "> This is why it is discouraged to use this method."
   ]
  },
  {
   "cell_type": "code",
   "execution_count": 28,
   "id": "ad55f2f2",
   "metadata": {},
   "outputs": [
    {
     "data": {
      "text/plain": [
       "0.0010156249999999922"
      ]
     },
     "execution_count": 28,
     "metadata": {},
     "output_type": "execute_result"
    }
   ],
   "source": [
    "E_err = bdata.models[3].loglik_err.get_E_err(2, thresh=0.1, flex=1e-2)\n",
    "E_err"
   ]
  },
  {
   "cell_type": "markdown",
   "id": "bc5dc49b",
   "metadata": {},
   "source": [
    "### Clearing Values\n",
    "\n",
    "Since values already stored are not recalculated, if a new threshold is set, previous values can be cleared using the `ModelError.Loglik_Error.clear_E` `ModelError.Loglik_Error.clear_S()`, and `ModelError.Loglik_Error.clear_trans()`, and `ModelError.Loglik_Error.clear_all()` methods.\n",
    "These reset their respective arrays:"
   ]
  },
  {
   "cell_type": "code",
   "execution_count": 29,
   "id": "a16837a5",
   "metadata": {},
   "outputs": [],
   "source": [
    "bdata.models[2].loglik_err.clear_E()\n",
    "bdata.models[2].loglik_err.clear_S()\n",
    "bdata.models[2].loglik_err.clear_trans()"
   ]
  },
  {
   "cell_type": "markdown",
   "id": "71836f1b",
   "metadata": {},
   "source": [
    "As the name suggests, `ModelError.Loglik_Error.clear_all()` clears all the values.\n",
    "So the three lines above, together do what is done bellow in a single line:"
   ]
  },
  {
   "cell_type": "code",
   "execution_count": 30,
   "id": "24329d56",
   "metadata": {},
   "outputs": [],
   "source": [
    "bdata.models[2].loglik_err.clear_all()"
   ]
  },
  {
   "cell_type": "markdown",
   "id": "608dce62",
   "metadata": {},
   "source": [
    "## Calculating All Uncertainty Values\n",
    "\n",
    "When a given `H2MM_result` has only a few states, it will not take long to characterize the uncertainty of all model parameters, but for 5+ states, this becomes time consuming.\n",
    "Hence the choice to break with burstH2MM's normal strategy of calculating on demand and storing the result, and instead using a `get_E/S/trans` strategy, and masked arrays, that unmask values that have been calculated.\n",
    "\n",
    "However, if you so desire, the `ModelError.Loglik_Err.all_eval()` method provides a shortcut, and evaluates all parameters for you.\n",
    "This is great for 2 and 3 state models, workable for 4 state models, and less advisable for 5+ state models."
   ]
  },
  {
   "cell_type": "code",
   "execution_count": 31,
   "id": "9b1b647a",
   "metadata": {},
   "outputs": [
    {
     "data": {
      "text/plain": [
       "masked_array(\n",
       "  data=[[[--, --],\n",
       "         [501.85880590306624, 562.3571669228369],\n",
       "         [40.92595696233021, 67.31424834785025]],\n",
       "\n",
       "        [[193.2941908421583, 217.69955433877504],\n",
       "         [--, --],\n",
       "         [95.3687750943463, 111.56819133190652]],\n",
       "\n",
       "        [[3.735882210708622, 12.601354449681962],\n",
       "         [108.29230392786711, 124.56154227875899],\n",
       "         [--, --]]],\n",
       "  mask=[[[ True,  True],\n",
       "         [False, False],\n",
       "         [False, False]],\n",
       "\n",
       "        [[False, False],\n",
       "         [ True,  True],\n",
       "         [False, False]],\n",
       "\n",
       "        [[False, False],\n",
       "         [False, False],\n",
       "         [ True,  True]]],\n",
       "  fill_value=inf)"
      ]
     },
     "execution_count": 31,
     "metadata": {},
     "output_type": "execute_result"
    }
   ],
   "source": [
    "# reset thresh and flex to default before re-calculating everything\n",
    "bdata.models[2].loglik_err.thresh, bdata.models[2].loglik_err.flex = 0.5, 5e-3\n",
    "\n",
    "# evaluate all parameters\n",
    "bdata.models[2].loglik_err.all_eval()\n",
    "bdata.models[2].loglik_err.trans"
   ]
  },
  {
   "cell_type": "code",
   "execution_count": 32,
   "id": "7e4ccd88",
   "metadata": {},
   "outputs": [
    {
     "data": {
      "text/plain": [
       "masked_array(data=[0.005624999999999991, 0.0019238281250000128,\n",
       "                   0.0010351562499999883],\n",
       "             mask=[False, False, False],\n",
       "       fill_value=nan)"
      ]
     },
     "execution_count": 32,
     "metadata": {},
     "output_type": "execute_result"
    }
   ],
   "source": [
    "bdata.models[2].loglik_err.E"
   ]
  },
  {
   "cell_type": "code",
   "execution_count": 33,
   "id": "dae5aa06",
   "metadata": {},
   "outputs": [
    {
     "data": {
      "text/plain": [
       "masked_array(data=[0.003408203125000009, 0.001953125, 0.00077636718749996],\n",
       "             mask=[False, False, False],\n",
       "       fill_value=-inf)"
      ]
     },
     "execution_count": 33,
     "metadata": {},
     "output_type": "execute_result"
    }
   ],
   "source": [
    "bdata.models[2].loglik_err.S"
   ]
  },
  {
   "cell_type": "markdown",
   "id": "99d7195c",
   "metadata": {},
   "source": [
    "## Examining Loglikelihood Variance Along a Given Parameter\n",
    "\n",
    "So far uncertainty estimation has been built finding how far a given parameter must be varied to alter the loglikelihood by a certain value.\n",
    "This is done by an iterative process, and each iteration is saved.\n",
    "The parameter values and loglikelihoods are stored in attributes of `ModelError.Loglik_Error`.\n",
    "\n",
    "| Parameter type | Parameter Value                      | Loglikelihood                      |\n",
    "| :------------- | :----------------------------------- | :--------------------------------- |\n",
    "| E              | `ModelError.Loglik_Error.E_rng`      | `ModelError.Loglik_Error.E_ll_rng` |\n",
    "| S              | `ModelError.Loglik_Error.S_rng`      | `ModelError.Loglik_Error.S_ll_rng` |\n",
    "| Trans          | `ModelError.Loglik_Error.t_rate_rng` | `ModelError.Loglik_Error.t_ll_rng` |\n",
    "\n",
    "\n",
    "These are 2D (for trans) and 1D (for E/S) numpy object arrays, whose elements are 1D numpy arrays of all values/loglikelihoods evaluates thus far.\n",
    "\n",
    "These arrays however will often have values clustered around where the search value is, whereas for more in-depth analysis, it would be more convenient to have an evenly spaced set of values.\n",
    "Such arrays can be generated by the `ModelError.Loglik_Error.E_space()`, `ModelError.Loglik_Error.S_space()`, and`ModelError.Loglik_Error.trans_space()` methods.\n",
    "\n",
    "The only required argument to these functions is the state or transition for which to calculate the array.\n",
    "The `rng` and `steps` keyword arguments let you specify the range over which to space the parameter values, and the number of values to evaluate (think of this as similar to the numpy linspace and logspace functions).\n",
    "\n",
    "`steps` is always a positive integer.\n",
    "\n",
    "`rng` however has several options:\n",
    "\n",
    "| Option    | Behavior | When callable | `steps` ignored |\n",
    "| :-------- | :------- | :------------ | :-------------- |\n",
    "| int/float | multiply value by difference between low/high value and optimal value to offset for low/high values of range | Must have evaluated uncertainty before calling | No |\n",
    "| 2 element array-like (tuple, list, numpy array) | low/high values for the range | Call anytime | No |\n",
    "| Many element array-like | The individual values of the specified parameter to evaluate the matrix, steps ignored | Call anytime | Yes |\n",
    "\n",
    "> **Note**\n",
    ">\n",
    "> If `rng` is not specified, it behaves like `rng=2` and therefore prior to evaluating, you must have already performed `ModelError.Loglik_Error.get_E/S/trans_err()` for the given state or transition."
   ]
  },
  {
   "cell_type": "code",
   "execution_count": 34,
   "id": "ec7d30e2",
   "metadata": {},
   "outputs": [
    {
     "data": {
      "text/plain": [
       "(0.6490603599116281, 0.6715603599116281, 20)"
      ]
     },
     "execution_count": 34,
     "metadata": {},
     "output_type": "execute_result"
    }
   ],
   "source": [
    "Erng, Ell = bdata.models[2].loglik_err.E_space(0)\n",
    "Erng[0], Erng[-1], Erng.size"
   ]
  },
  {
   "cell_type": "code",
   "execution_count": 35,
   "id": "8326eb41",
   "metadata": {},
   "outputs": [
    {
     "data": {
      "text/plain": [
       "(0.5476305043692009, 0.5593492543692009, 10)"
      ]
     },
     "execution_count": 35,
     "metadata": {},
     "output_type": "execute_result"
    }
   ],
   "source": [
    "Srng, Sll = bdata.models[2].loglik_err.S_space(1, rng=3, steps=10)\n",
    "Srng[0], Srng[-1], Srng.size"
   ]
  },
  {
   "cell_type": "markdown",
   "id": "db5296ee",
   "metadata": {},
   "source": [
    "> **Note**\n",
    ">\n",
    "> For `ModelError.Loglik_Error.trans_space()` the transition must be specified as a 2-tuple of (from_state, to_state)."
   ]
  },
  {
   "cell_type": "code",
   "execution_count": 36,
   "id": "9050f73c",
   "metadata": {},
   "outputs": [
    {
     "data": {
      "text/plain": [
       "(99.99999999999999, 400.0, (20,))"
      ]
     },
     "execution_count": 36,
     "metadata": {},
     "output_type": "execute_result"
    }
   ],
   "source": [
    "trng, tll = bdata.models[2].loglik_err.trans_space((0,1), rng=(100, 400))\n",
    "trng[0], trng[-1], trng.shape"
   ]
  },
  {
   "cell_type": "markdown",
   "id": "579d2b0b",
   "metadata": {},
   "source": [
    "The return values of these `ModelError.Loglik_Error.E/S/trans_space()` methods are automatically added to the `ModelError.Loglik_Error.E/S/t_rate_rng` and `ModelError.Loglik_Error.E/S/t_ll_rng` attributes, and so we can access all previously calculated values.\n",
    "Note that these are stored in arrays of arrays, so you must specify the state/(from_state, to_state) that you want to access."
   ]
  },
  {
   "cell_type": "code",
   "execution_count": 37,
   "id": "19680c3c",
   "metadata": {},
   "outputs": [
    {
     "data": {
      "text/plain": [
       "array([-133421.33099232, -133408.78806882, -133396.23640999,\n",
       "       -133383.70003837, -133371.20575538, -133358.78339051,\n",
       "       -133346.46606703, -133334.29048486, -133322.29722086,\n",
       "       -133310.53104671, -133299.04126446, -133287.88205962,\n",
       "       -133277.11287135, -133266.79877898, -133257.01090396,\n",
       "       -133247.82682552, -133239.33100829, -133231.61523905,\n",
       "       -133224.77906936, -133218.93026009, -133209.34821107,\n",
       "       -133208.70964879, -133208.45556987, -133208.39896862,\n",
       "       -133208.37171389, -133208.34515839, -133208.24595844,\n",
       "       -133207.99849658, -133208.16408984, -133208.27247109,\n",
       "       -133208.33312831, -133208.36508243, -133208.3981236 ])"
      ]
     },
     "execution_count": 37,
     "metadata": {},
     "output_type": "execute_result"
    }
   ],
   "source": [
    "bdata.models[2].loglik_err.t_ll_rng[0,1]"
   ]
  },
  {
   "cell_type": "markdown",
   "id": "e49bde2e",
   "metadata": {},
   "source": [
    "## Plotting Parameters\n",
    "\n",
    "It is also possible to plot how the loglikelihood varies along a given parameter.\n",
    "\n",
    "This uses the `ll_E_scatter()`, `ll_S_scatter()` and `ll_trans_scatter()` functions.\n",
    "These functions take as required arguments a `H2MM_result` or `ModelError.Loglik_Error` object, and which state to plot. For `ll_E_scatter()` and `ll_S_scatter`, this is a single integer, indicating the index of the state. For `ll_trans_scatter()` this is two arguments: `from_state` and `to_state`."
   ]
  },
  {
   "cell_type": "code",
   "execution_count": 38,
   "id": "9217efa5",
   "metadata": {},
   "outputs": [
    {
     "data": {
      "text/plain": [
       "<matplotlib.collections.PathCollection at 0x7f50e4a75790>"
      ]
     },
     "execution_count": 38,
     "metadata": {},
     "output_type": "execute_result"
    },
    {
     "data": {
      "image/png": "[encoded data removed]",
      "text/plain": [
       "<Figure size 432x288 with 1 Axes>"
      ]
     },
     "metadata": {
      "needs_background": "light"
     },
     "output_type": "display_data"
    }
   ],
   "source": [
    "bhm.ll_E_scatter(bdata.models[2],1)"
   ]
  },
  {
   "cell_type": "markdown",
   "id": "4f5a2588",
   "metadata": {},
   "source": [
    "By default the `ll_E_scatter()` plots only an evenly spaced distribution of parameter values, it does this by calling `ModelError.Loglik_Error.E_space()` and plots only those values. You can pass the `rng` and `steps` keyword arguments to `ll_E_scatter()`, and these will be passed to `ModelError.Loglik_Error.E_space()`, to adjust the values plotted.\n",
    "\n",
    "If on the other hand, you would like to see all values that have been evaluated, you can pass the keyword argument: `rng_only=False`, and it will plot all the values for the given parameter (everything stored in `ModelError.Loglik_Error.E_rng`)"
   ]
  },
  {
   "cell_type": "code",
   "execution_count": 39,
   "id": "5d32a0d7",
   "metadata": {},
   "outputs": [
    {
     "data": {
      "text/plain": [
       "<matplotlib.collections.PathCollection at 0x7f50e4201970>"
      ]
     },
     "execution_count": 39,
     "metadata": {},
     "output_type": "execute_result"
    },
    {
     "data": {
      "image/png": "[encoded data removed]",
      "text/plain": [
       "<Figure size 432x288 with 1 Axes>"
      ]
     },
     "metadata": {
      "needs_background": "light"
     },
     "output_type": "display_data"
    }
   ],
   "source": [
    "bhm.ll_E_scatter(bdata.models[2],1, rng_only=False)"
   ]
  },
  {
   "cell_type": "markdown",
   "id": "46b2b68c",
   "metadata": {},
   "source": [
    "Now let's see the same for the stoichiometry, same rules apply:"
   ]
  },
  {
   "cell_type": "code",
   "execution_count": 40,
   "id": "5cb2684c",
   "metadata": {},
   "outputs": [
    {
     "data": {
      "text/plain": [
       "<matplotlib.collections.PathCollection at 0x7f50e40a5190>"
      ]
     },
     "execution_count": 40,
     "metadata": {},
     "output_type": "execute_result"
    },
    {
     "data": {
      "image/png": "[encoded data removed]",
      "text/plain": [
       "<Figure size 432x288 with 1 Axes>"
      ]
     },
     "metadata": {
      "needs_background": "light"
     },
     "output_type": "display_data"
    }
   ],
   "source": [
    "bhm.ll_E_scatter(bdata.models[2],1, rng=3, steps=30)"
   ]
  },
  {
   "cell_type": "code",
   "execution_count": 41,
   "id": "ec9ddc4f",
   "metadata": {},
   "outputs": [
    {
     "data": {
      "text/plain": [
       "<matplotlib.collections.PathCollection at 0x7f50e73f2df0>"
      ]
     },
     "execution_count": 41,
     "metadata": {},
     "output_type": "execute_result"
    },
    {
     "data": {
      "image/png": "[encoded data removed]",
      "text/plain": [
       "<Figure size 432x288 with 1 Axes>"
      ]
     },
     "metadata": {
      "needs_background": "light"
     },
     "output_type": "display_data"
    }
   ],
   "source": [
    "bhm.ll_E_scatter(bdata.models[2],1, rng=3, steps=30, rng_only=False)"
   ]
  },
  {
   "cell_type": "markdown",
   "id": "e4e57357",
   "metadata": {},
   "source": [
    "And for transition rates, note that `ll_trans_scatter()` needs two indices for `from_state` and `to_state`, instead of just one."
   ]
  },
  {
   "cell_type": "code",
   "execution_count": 42,
   "id": "b90f06d4",
   "metadata": {},
   "outputs": [
    {
     "data": {
      "text/plain": [
       "<matplotlib.collections.PathCollection at 0x7f50e748dcd0>"
      ]
     },
     "execution_count": 42,
     "metadata": {},
     "output_type": "execute_result"
    },
    {
     "data": {
      "image/png": "[encoded data removed]",
      "text/plain": [
       "<Figure size 432x288 with 1 Axes>"
      ]
     },
     "metadata": {
      "needs_background": "light"
     },
     "output_type": "display_data"
    }
   ],
   "source": [
    "bhm.ll_trans_scatter(bdata.models[2], 1,0)"
   ]
  },
  {
   "cell_type": "code",
   "execution_count": 43,
   "id": "bedeeb55",
   "metadata": {},
   "outputs": [
    {
     "data": {
      "text/plain": [
       "<matplotlib.collections.PathCollection at 0x7f50e7483ac0>"
      ]
     },
     "execution_count": 43,
     "metadata": {},
     "output_type": "execute_result"
    },
    {
     "data": {
      "image/png": "[encoded data removed]",
      "text/plain": [
       "<Figure size 432x288 with 1 Axes>"
      ]
     },
     "metadata": {
      "needs_background": "light"
     },
     "output_type": "display_data"
    }
   ],
   "source": [
    "bhm.ll_trans_scatter(bdata.models[2], 1,0, rng=1.5, rng_only=False)"
   ]
  },
  {
   "cell_type": "markdown",
   "id": "15d7ef00",
   "metadata": {},
   "source": [
    "## Forcing Recalculation\n",
    "\n",
    "The `ModelError.Loglik_Error.get_E/S/trans_err()` methods check if a value has been calculated, and can return such values without repeating the calculation.\n",
    "There are however lower level methods that calculate values regardless of whether they were calculated before, and over-write the value if it was.\n",
    "These are the `ModelError.Loglik_Error.E_eval()`, `ModelError.Loglik_Error.S_eval()`, and `ModelError.Loglik_Error.trans_eval()` methods.\n",
    "\n",
    "> **Note**\n",
    ">\n",
    "> Unlike the `ModelError.Loglik_Error.get_E/S/trans_err()` methods, these methods do not have a return value, they just write their value to the corresponding array in the `ModelError.Loglik_Error` object.\n",
    "\n",
    "If these methods are called with no keyword arguments, then all values of E, S, or trans will be calculated, but if only specific values are to be calculated, you can specify the `locs` keyword argument.\n",
    "The `locs` keyword argument **must** be an iterable object where the elements are the desired states or transitions.\n",
    "\n",
    "These methods also accept the same `thresh` and `flex` keyword arguments, and come with the same warnings of setting them individually instead of globally as for `ModelError.Loglik_Error.get_E/S/trans_err()`.\n",
    "Also present is the `max_iter` keyword argument which specifies how many iterations of the search algorithm to execute seeking a loglikelihood close to`thresh` less than the optimal, within a range of `flex`.\n",
    "Finally, for `ModelError.Loglik_Error.E/S_eval()`, there is the `step` keyword argument, and for `ModelError.Loglik_Error.trans_eval()` there is the `factor` argument, which specify the offset from the optimal value to use as an initial value in the search algorithm."
   ]
  },
  {
   "cell_type": "code",
   "execution_count": 44,
   "id": "06b5320c",
   "metadata": {},
   "outputs": [
    {
     "data": {
      "text/plain": [
       "masked_array(data=[0.005624999999999991, 0.0019238281250000128, --],\n",
       "             mask=[False, False,  True],\n",
       "       fill_value=nan)"
      ]
     },
     "execution_count": 44,
     "metadata": {},
     "output_type": "execute_result"
    }
   ],
   "source": [
    "# clear previously stored values so re-evaluation can be tested\n",
    "bdata.models[2].loglik_err.clear_all()\n",
    "\n",
    "bdata.models[2].loglik_err.E_eval(locs=(0,1))\n",
    "bdata.models[2].loglik_err.E"
   ]
  },
  {
   "cell_type": "code",
   "execution_count": 45,
   "id": "b2439b2f",
   "metadata": {},
   "outputs": [
    {
     "data": {
      "text/plain": [
       "masked_array(data=[0.003408203125000009, 0.001953125, --],\n",
       "             mask=[False, False,  True],\n",
       "       fill_value=-inf)"
      ]
     },
     "execution_count": 45,
     "metadata": {},
     "output_type": "execute_result"
    }
   ],
   "source": [
    "bdata.models[2].loglik_err.S_eval(locs=(0,1))\n",
    "bdata.models[2].loglik_err.S"
   ]
  },
  {
   "cell_type": "code",
   "execution_count": 46,
   "id": "3463da8c",
   "metadata": {},
   "outputs": [
    {
     "data": {
      "text/plain": [
       "masked_array(\n",
       "  data=[[--, 501.85880590306624, --],\n",
       "        [193.2941908421583, --, --],\n",
       "        [--, --, --]],\n",
       "  mask=[[ True, False,  True],\n",
       "        [False,  True,  True],\n",
       "        [ True,  True,  True]],\n",
       "  fill_value=inf)"
      ]
     },
     "execution_count": 46,
     "metadata": {},
     "output_type": "execute_result"
    }
   ],
   "source": [
    "bdata.models[2].loglik_err.trans_eval(locs=((0,1), (1,0),))\n",
    "bdata.models[2].loglik_err.trans[:,:,0]"
   ]
  },
  {
   "cell_type": "markdown",
   "id": "f391ef30",
   "metadata": {},
   "source": [
    "## Covariant optimizations\n",
    "\n",
    "In the previous characterization of uncertainty, only a single parameter value could be varied at a time.\n",
    "Ideally we could make an N-dimensional grid of all combinations of parameter varied around their optimal values, but the shear number of points on such an N-dimensional grid grows so quickly with more states that such a method is not implemented here.\n",
    "\n",
    "Instead, we can take one parameter at a time, fix it's value to various offsets from the optimal, and find the optimal values for all other parameters.\n",
    "Thus we can see how changing one parameter affects the others, and how closely correlated they are to one another.\n",
    "\n",
    "This is done through the covariance methods: `ModelError.Loglik_Error.covar_trans()`, `ModelError.Loglik_Error.covar_E()` and `ModelError.Loglik_Error.covar_S()`.\n",
    "Similar to the `ModelError.Loglik_Error.trans/E/S_space` functions for the basic loglikelihood error, these functions take the particular transition/state you would like to evaluate as arguments, and also take the same `rng` and `steps` keyword arguments.\n",
    "\n",
    "> **Note**\n",
    ">\n",
    "> Since these are optimization based parameters, these functions also take `max_iter` and `converged_min` keyword arguments to control when optimization terminates.\n",
    "\n",
    "Once finished, the results are stored in the corresponding index of `ModelError.Loglik_Error.trans_covar`, `ModelError.Loglik_Error.E_covar`, and `ModelError.Loglik_Error.S_covar`, each of which is a numpy masked array of `ModelError.ModelSet` objects, so the calculated values will be stored in the corresponding index.\n",
    "As with the `ModelError.Bootstrap_Error.models` attribute that was a `ModelError.ModelSet` object, access to the individual optimized parameters is provided through the appropriately named attributes."
   ]
  },
  {
   "cell_type": "code",
   "execution_count": 47,
   "id": "bac878eb",
   "metadata": {},
   "outputs": [
    {
     "data": {
      "text/plain": [
       "The model converged after 82 iterations"
      ]
     },
     "metadata": {},
     "output_type": "display_data"
    },
    {
     "data": {
      "text/plain": [
       "The model converged after 78 iterations"
      ]
     },
     "metadata": {},
     "output_type": "display_data"
    },
    {
     "data": {
      "text/plain": [
       "The model converged after 74 iterations"
      ]
     },
     "metadata": {},
     "output_type": "display_data"
    },
    {
     "data": {
      "text/plain": [
       "The model converged after 68 iterations"
      ]
     },
     "metadata": {},
     "output_type": "display_data"
    },
    {
     "data": {
      "text/plain": [
       "The model converged after 53 iterations"
      ]
     },
     "metadata": {},
     "output_type": "display_data"
    },
    {
     "data": {
      "text/plain": [
       "The model converged after 54 iterations"
      ]
     },
     "metadata": {},
     "output_type": "display_data"
    },
    {
     "data": {
      "text/plain": [
       "The model converged after 69 iterations"
      ]
     },
     "metadata": {},
     "output_type": "display_data"
    },
    {
     "data": {
      "text/plain": [
       "The model converged after 75 iterations"
      ]
     },
     "metadata": {},
     "output_type": "display_data"
    },
    {
     "data": {
      "text/plain": [
       "The model converged after 79 iterations"
      ]
     },
     "metadata": {},
     "output_type": "display_data"
    },
    {
     "data": {
      "text/plain": [
       "The model converged after 84 iterations"
      ]
     },
     "metadata": {},
     "output_type": "display_data"
    },
    {
     "data": {
      "text/plain": [
       "array([0.15892296, 0.15906223, 0.15920173, 0.15934148, 0.15948151,\n",
       "       0.15962176, 0.15976239, 0.15990334, 0.16004464, 0.16018629])"
      ]
     },
     "execution_count": 47,
     "metadata": {},
     "output_type": "execute_result"
    }
   ],
   "source": [
    "bdata.models[2].loglik_err.covar_E(0)\n",
    "bdata.models[2].loglik_err.E_covar[0].E[:,1]"
   ]
  },
  {
   "cell_type": "code",
   "execution_count": 48,
   "id": "566037b4",
   "metadata": {},
   "outputs": [
    {
     "data": {
      "text/plain": [
       "The model converged after 53 iterations"
      ]
     },
     "metadata": {},
     "output_type": "display_data"
    },
    {
     "data": {
      "text/plain": [
       "The model converged after 51 iterations"
      ]
     },
     "metadata": {},
     "output_type": "display_data"
    },
    {
     "data": {
      "text/plain": [
       "The model converged after 47 iterations"
      ]
     },
     "metadata": {},
     "output_type": "display_data"
    },
    {
     "data": {
      "text/plain": [
       "The model converged after 43 iterations"
      ]
     },
     "metadata": {},
     "output_type": "display_data"
    },
    {
     "data": {
      "text/plain": [
       "The model converged after 34 iterations"
      ]
     },
     "metadata": {},
     "output_type": "display_data"
    },
    {
     "data": {
      "text/plain": [
       "The model converged after 34 iterations"
      ]
     },
     "metadata": {},
     "output_type": "display_data"
    },
    {
     "data": {
      "text/plain": [
       "The model converged after 44 iterations"
      ]
     },
     "metadata": {},
     "output_type": "display_data"
    },
    {
     "data": {
      "text/plain": [
       "The model converged after 49 iterations"
      ]
     },
     "metadata": {},
     "output_type": "display_data"
    },
    {
     "data": {
      "text/plain": [
       "The model converged after 56 iterations"
      ]
     },
     "metadata": {},
     "output_type": "display_data"
    },
    {
     "data": {
      "text/plain": [
       "The model converged after 59 iterations"
      ]
     },
     "metadata": {},
     "output_type": "display_data"
    },
    {
     "data": {
      "text/plain": [
       "array([0.43215553, 0.43183874, 0.43152246, 0.43120671, 0.43089146,\n",
       "       0.4305768 , 0.43026259, 0.42994891, 0.42963573, 0.42932306])"
      ]
     },
     "execution_count": 48,
     "metadata": {},
     "output_type": "execute_result"
    }
   ],
   "source": [
    "bdata.models[2].loglik_err.covar_S(1)\n",
    "bdata.models[2].loglik_err.S_covar[1].S[:,0]"
   ]
  },
  {
   "cell_type": "code",
   "execution_count": 49,
   "id": "62e03af6",
   "metadata": {},
   "outputs": [
    {
     "data": {
      "text/plain": [
       "The model converged after 76 iterations"
      ]
     },
     "metadata": {},
     "output_type": "display_data"
    },
    {
     "data": {
      "text/plain": [
       "The model converged after 78 iterations"
      ]
     },
     "metadata": {},
     "output_type": "display_data"
    },
    {
     "data": {
      "text/plain": [
       "The model converged after 80 iterations"
      ]
     },
     "metadata": {},
     "output_type": "display_data"
    },
    {
     "data": {
      "text/plain": [
       "The model converged after 83 iterations"
      ]
     },
     "metadata": {},
     "output_type": "display_data"
    },
    {
     "data": {
      "text/plain": [
       "The model converged after 80 iterations"
      ]
     },
     "metadata": {},
     "output_type": "display_data"
    },
    {
     "data": {
      "text/plain": [
       "The model converged after 92 iterations"
      ]
     },
     "metadata": {},
     "output_type": "display_data"
    },
    {
     "data": {
      "text/plain": [
       "The model converged after 136 iterations"
      ]
     },
     "metadata": {},
     "output_type": "display_data"
    },
    {
     "data": {
      "text/plain": [
       "The model converged after 209 iterations"
      ]
     },
     "metadata": {},
     "output_type": "display_data"
    },
    {
     "data": {
      "text/plain": [
       "Optimization reached maximum number of iterations"
      ]
     },
     "metadata": {},
     "output_type": "display_data"
    },
    {
     "data": {
      "text/plain": [
       "Optimization reached maximum number of iterations"
      ]
     },
     "metadata": {},
     "output_type": "display_data"
    },
    {
     "data": {
      "text/plain": [
       "array([ 158.70168905,  207.5797375 ,  271.51158681,  355.13361109,\n",
       "        464.51012722,  607.57318246,  794.6977911 , 1039.45433638,\n",
       "       1359.59270244, 1778.329506  ])"
      ]
     },
     "execution_count": 49,
     "metadata": {},
     "output_type": "execute_result"
    }
   ],
   "source": [
    "bdata.models[2].loglik_err.covar_trans(0,1)\n",
    "bdata.models[2].loglik_err.trans_covar[0,1].trans[:,0,1]"
   ]
  },
  {
   "cell_type": "markdown",
   "id": "c54bf8a4",
   "metadata": {},
   "source": [
    "### Plotting Covariance\n",
    "\n",
    "There are 3 functions for plotting the results of covariance: `covar_trans_ll_scatter()`, `covar_E_ll_scatter()` and `covar_S_ll_scatter()`.\n",
    "These plot the loglikelihood of the optimized models against the value of the fixed parameter, they take two arguments: the  `ModelError.Loglik_Error` data, and the state to plot, or in the case of `covar_ll_trans_scatter()`, the particular transition, and thus 3 arguments are required, the `ModelError.Loglik_Error` data, `from_state` and `to_state`:\n",
    "\n",
    "> **Note**\n",
    ">\n",
    "> This function is smart, and will take either the base `H2MM_result` or `ModelError.Loglik_Error`, if the former, it will automatically extract the `ModelError.Loglik_Error` object from the `H2MM_result.loglik_err` attribute. \n",
    "\n",
    "> **Note**\n",
    ">\n",
    "> If you have not already run `ModelError.Loglik_Error.covar_trans()`/`ModelError.Loglik_Error.covar_E()`/`ModelError.Loglik_Error.covar_S()` for the given state/transition, these functions will automatically run these with default parameters."
   ]
  },
  {
   "cell_type": "code",
   "execution_count": 50,
   "id": "9b76444f",
   "metadata": {},
   "outputs": [
    {
     "data": {
      "text/plain": [
       "<matplotlib.collections.PathCollection at 0x7f50e3ef45e0>"
      ]
     },
     "execution_count": 50,
     "metadata": {},
     "output_type": "execute_result"
    },
    {
     "data": {
      "image/png": "[encoded data removed]",
      "text/plain": [
       "<Figure size 432x288 with 1 Axes>"
      ]
     },
     "metadata": {
      "needs_background": "light"
     },
     "output_type": "display_data"
    }
   ],
   "source": [
    "bhm.covar_trans_ll_scatter(bdata.models[2].loglik_err, 0,1)"
   ]
  },
  {
   "cell_type": "markdown",
   "id": "95e883b0",
   "metadata": {},
   "source": [
    "These functions all also take the standard `ax` keyword argument, and all additional keyword arguments are passed to `ax.scatter()`"
   ]
  },
  {
   "cell_type": "code",
   "execution_count": 51,
   "id": "c34d2c15",
   "metadata": {},
   "outputs": [
    {
     "data": {
      "text/plain": [
       "<matplotlib.collections.PathCollection at 0x7f50e3f02940>"
      ]
     },
     "execution_count": 51,
     "metadata": {},
     "output_type": "execute_result"
    },
    {
     "data": {
      "image/png": "[encoded data removed]",
      "text/plain": [
       "<Figure size 432x288 with 1 Axes>"
      ]
     },
     "metadata": {
      "needs_background": "light"
     },
     "output_type": "display_data"
    }
   ],
   "source": [
    "fig, ax = plt.subplots()\n",
    "bhm.covar_E_ll_scatter(bdata.models[2], 0, ax=ax, s=60, marker='+', c='r')"
   ]
  },
  {
   "cell_type": "markdown",
   "id": "82d62956",
   "metadata": {},
   "source": [
    "Now there are a lot more values to plot, for instance, it is nice to see how when one parameter is offset, how does that affect the optimal values of other parameters.\n",
    "There are no built-in plotting functions for this, since specifying which parameter makes the function signatures rather long and awkward, so such plots are left to the user.\n",
    "Thankfully, if you know which particular combination of parameters you want to plot, it is not very difficult to setup your custom plots.\n",
    "\n",
    "This will also be a good way to teach how to access these different values.\n",
    "\n",
    "So say we want to see how, when the FRET efficiency of state 0 is varied, how does that affect the transitions from state 0 to state 1?\n",
    "\n",
    "To do this we need to extract these parameters, and then plot them.\n",
    "\n",
    "For demonstration purposes, we'll do this in 3 steps\n",
    "\n",
    "1. Isolate the covariance results (`ModelError.ModelSet` object) of state 0.\n",
    "2. Extract the (fixed) E values of state 0, and the (optimized) transition values from state 0 to state 1\n",
    "3. Plot covariance"
   ]
  },
  {
   "cell_type": "code",
   "execution_count": 52,
   "id": "403503f3",
   "metadata": {},
   "outputs": [
    {
     "data": {
      "text/plain": [
       "Text(0, 0.5, '0->1 $s^{-1}$, (optimized)')"
      ]
     },
     "execution_count": 52,
     "metadata": {},
     "output_type": "execute_result"
    },
    {
     "data": {
      "image/png": "[encoded data removed]",
      "text/plain": [
       "<Figure size 432x288 with 1 Axes>"
      ]
     },
     "metadata": {
      "needs_background": "light"
     },
     "output_type": "display_data"
    }
   ],
   "source": [
    "# get the ModelSet of state 0 E_covar\n",
    "covar_E_state0 = bdata.models[2].loglik_err.E_covar[0]\n",
    "\n",
    "# get fixed E values for x and optimized \n",
    "# note: we use ':' for the 0th dimension, so we look at each model\n",
    "# then specify the state/transition of interest\n",
    "x = covar_E_state0.E[:,0]\n",
    "y = covar_E_state0.trans[:,0,1]\n",
    "\n",
    "# plot\n",
    "plt.scatter(x,y)\n",
    "\n",
    "plt.xlabel(\"E$_{raw}$ state 0 (fixed)\")\n",
    "plt.ylabel(r\"0->1 $s^{-1}$, (optimized)\")"
   ]
  },
  {
   "cell_type": "markdown",
   "id": "1c70a775",
   "metadata": {},
   "source": [
    "Of course, we could just do this all in one line (plus axis labels):"
   ]
  },
  {
   "cell_type": "code",
   "execution_count": 53,
   "id": "7676152f",
   "metadata": {},
   "outputs": [
    {
     "data": {
      "text/plain": [
       "Text(0, 0.5, '0->1 $s^{-1}$, (optimized)')"
      ]
     },
     "execution_count": 53,
     "metadata": {},
     "output_type": "execute_result"
    },
    {
     "data": {
      "image/png": "[encoded data removed]",
      "text/plain": [
       "<Figure size 432x288 with 1 Axes>"
      ]
     },
     "metadata": {
      "needs_background": "light"
     },
     "output_type": "display_data"
    }
   ],
   "source": [
    "plt.scatter(bdata.models[2].loglik_err.E_covar[0].E[:,0], bdata.models[2].loglik_err.E_covar[0].trans[:,0,1])\n",
    "plt.xlabel(\"E$_{raw}$ state 0 (fixed)\")\n",
    "plt.ylabel(r\"0->1 $s^{-1}$, (optimized)\")"
   ]
  },
  {
   "cell_type": "markdown",
   "id": "140c4ff3",
   "metadata": {},
   "source": [
    "Of course, there is no need to restrict ourselves to having the x axis be the fixed parameter, we can see how they all vary with one another, and maybe we'll give the fixed parameter as a color argument:"
   ]
  },
  {
   "cell_type": "code",
   "execution_count": 54,
   "id": "235a9917",
   "metadata": {},
   "outputs": [
    {
     "data": {
      "text/plain": [
       "Text(0, 0.5, 'E$_{raw}$ state 2 (optimized)')"
      ]
     },
     "execution_count": 54,
     "metadata": {},
     "output_type": "execute_result"
    },
    {
     "data": {
      "image/png": "[encoded data removed]",
      "text/plain": [
       "<Figure size 432x288 with 1 Axes>"
      ]
     },
     "metadata": {
      "needs_background": "light"
     },
     "output_type": "display_data"
    }
   ],
   "source": [
    "x = bdata.models[2].loglik_err.E_covar[0].E[:,1] # state 1 E values\n",
    "y = bdata.models[2].loglik_err.E_covar[0].E[:,2] # state 2 E values\n",
    "c = bdata.models[2].loglik_err.E_covar[0].E[:,0] # state 0 E values (fixed)\n",
    "c /= c.max() # normalize values since using cmap\n",
    "plt.scatter(x, y, c=c, cmap='viridis')\n",
    "plt.xlabel(\"E$_{raw}$ state 1 (optimized)\")\n",
    "plt.ylabel(\"E$_{raw}$ state 2 (optimized)\")"
   ]
  },
  {
   "cell_type": "markdown",
   "id": "aab1cbe6",
   "metadata": {},
   "source": [
    "Finally, let's think about combining the results of different covariances, we can use a 3-D plot to show how loglikelihood changes with respect to two parameters.\n",
    "\n",
    "So we'll take the covariance of E in state 0, and the covariance of S in state 1, plotting those values with E state 0 and S state 1 on the x and y axis, that way we can see the shape of two fixed axes with 1 free axis together."
   ]
  },
  {
   "cell_type": "code",
   "execution_count": 55,
   "id": "b359bf33",
   "metadata": {},
   "outputs": [
    {
     "data": {
      "text/plain": [
       "<matplotlib.legend.Legend at 0x7f50e3c8e370>"
      ]
     },
     "execution_count": 55,
     "metadata": {},
     "output_type": "execute_result"
    },
    {
     "data": {
      "image/png": "[encoded data removed]",
      "text/plain": [
       "<Figure size 720x720 with 1 Axes>"
      ]
     },
     "metadata": {
      "needs_background": "light"
     },
     "output_type": "display_data"
    }
   ],
   "source": [
    "xE = bdata.models[2].loglik_err.E_covar[0].E[:,0] # state 0 E values\n",
    "yE = bdata.models[2].loglik_err.E_covar[0].S[:,1] # state 1 E values\n",
    "zE = bdata.models[2].loglik_err.E_covar[0].loglik # loglikelihood, note that there is no state specification\n",
    "\n",
    "xS = bdata.models[2].loglik_err.S_covar[1].E[:,0] # state 0 E values\n",
    "yS = bdata.models[2].loglik_err.S_covar[1].S[:,1] # state 1 E values\n",
    "zS = bdata.models[2].loglik_err.S_covar[1].loglik # loglikelihood, note that there is no state specification\n",
    "\n",
    "fig = plt.figure(figsize=(10,10))\n",
    "ax = fig.add_subplot(projection='3d')\n",
    "\n",
    "ax.scatter(xE, yE, zE, label='fixed: E$_{raw}$ state 0')\n",
    "ax.scatter(xS, yS, zS, label='fixed: S$_{raw}$ state 1')\n",
    "\n",
    "ax.set_xlabel(\"E$_{raw}$ state 0\")\n",
    "ax.set_ylabel(\"S$_{raw}$ state 1\")\n",
    "ax.set_zlabel(\"LL\")\n",
    "ax.legend()"
   ]
  },
  {
   "cell_type": "markdown",
   "id": "1d6a4fbf",
   "metadata": {},
   "source": [
    "The key point, is that you have access to all non-lifetime model parameters (not dwell parameters) through identically named elements, and you can see how they correlate with one another and the overall logliklihood."
   ]
  }
 ],
 "metadata": {
  "kernelspec": {
   "display_name": "Python 3 (ipykernel)",
   "language": "python",
   "name": "python3"
  },
  "language_info": {
   "codemirror_mode": {
    "name": "ipython",
    "version": 3
   },
   "file_extension": ".py",
   "mimetype": "text/x-python",
   "name": "python",
   "nbconvert_exporter": "python",
   "pygments_lexer": "ipython3",
   "version": "3.9.12"
  }
 },
 "nbformat": 4,
 "nbformat_minor": 5
}
