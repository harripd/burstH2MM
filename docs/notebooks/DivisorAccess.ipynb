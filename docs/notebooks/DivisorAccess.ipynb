{
 "cells": [
  {
   "cell_type": "markdown",
   "id": "3ef6e4ee",
   "metadata": {},
   "source": [
    "# Access Divisors and Models\n",
    "\n",
    "We start with some basic, universal loading and setup.\n",
    "This is the same in all how-tos and tutorials, so that there is a unified set of data to work with.\n",
    "\n",
    "\n",
    "> **Note**\n",
    ">\n",
    "> Download the example file here: [HP3_TE300_SPC630.hdf5](https://zenodo.org/record/5902313/files/HP3_TE300_SPC630.hdf5)\n",
    "\n",
    "First, let's run the following code to generate a basic analysis for us to begin working with.\n",
    "This code is essentiall the same as that found in the [tutorial](#Tutorial)."
   ]
  },
  {
   "cell_type": "code",
   "execution_count": 1,
   "id": "bec4fd47",
   "metadata": {},
   "outputs": [
    {
     "name": "stdout",
     "output_type": "stream",
     "text": [
      " - Optimized (cython) burst search loaded.\n",
      " - Optimized (cython) photon counting loaded.\n",
      "--------------------------------------------------------------\n",
      " You are running FRETBursts (version 0.7.1).\n",
      "\n",
      " If you use this software please cite the following paper:\n",
      "\n",
      "   FRETBursts: An Open Source Toolkit for Analysis of Freely-Diffusing Single-Molecule FRET\n",
      "   Ingargiola et al. (2016). http://dx.doi.org/10.1371/journal.pone.0160716 \n",
      "\n",
      "--------------------------------------------------------------\n",
      "# Total photons (after ALEX selection):    11,414,157\n",
      "#  D  photons in D+A excitation periods:    5,208,392\n",
      "#  A  photons in D+A excitation periods:    6,205,765\n",
      "# D+A photons in  D  excitation period:     6,611,308\n",
      "# D+A photons in  A  excitation period:     4,802,849\n",
      "\n",
      " - Calculating BG rates ... get bg th arrays\n",
      "Channel 0\n",
      "[DONE]\n",
      " - Performing burst search (verbose=False) ...[DONE]\n",
      " - Calculating burst periods ...[DONE]\n",
      " - Counting D and A ph and calculating FRET ... \n",
      "   - Applying background correction.\n",
      "   [DONE Counting D/A]\n"
     ]
    }
   ],
   "source": [
    "import numpy as np\n",
    "from matplotlib import pyplot as plt\n",
    "\n",
    "import fretbursts as frb\n",
    "import burstH2MM as bhm\n",
    "\n",
    "filename = 'HP3_TE300_SPC630.hdf5'\n",
    "# load the data into the data object frbdata\n",
    "frbdata = frb.loader.photon_hdf5(filename)\n",
    "# if the alternation period is correct, apply data\n",
    "# plot the alternation histogram\n",
    "# frb.bpl.plot_alternation_hist(frbdata) # commented so not displayed in notebook\n",
    "frb.loader.alex_apply_period(frbdata)\n",
    "# calcualte the background rate\n",
    "frbdata.calc_bg(frb.bg.exp_fit, F_bg=1.7)\n",
    "# plot bg parameters, to verify quality\n",
    "# frb.dplot(frbdata, frb.hist_bg) # commented so not displayed in notebook\n",
    "# now perform burst search\n",
    "frbdata.burst_search(m=10, F=6)\n",
    "# make sure to set the appropriate thresholds of ALL size\n",
    "# parameters to the particulars of your experiment\n",
    "frbdata_sel = frbdata.select_bursts(frb.select_bursts.size, th1=50)\n",
    "bdata = bhm.BurstData(frbdata_sel)"
   ]
  },
  {
   "cell_type": "markdown",
   "id": "710bb05b",
   "metadata": {},
   "source": [
    "<a id='adivmod'></a>\n",
    "## Access within objects\n",
    "\n",
    "In burstH2MM, whenever a new optimization result (`H2MM_result`) or divisor scheme (`H2MM_list`) is created, it is stored in a specific variable inside the creating object. \n",
    "Therefore, you can access such a result or divisor scheme through its parent. \n",
    "This also helps you keep track of which result belongs with which data set.\n",
    "\n",
    "So, when we ran the optimization from the [tutorial](#tutops):"
   ]
  },
  {
   "cell_type": "code",
   "execution_count": 2,
   "id": "ec06aaeb",
   "metadata": {},
   "outputs": [
    {
     "data": {
      "text/plain": [
       "The model converged after 1 iterations"
      ]
     },
     "metadata": {},
     "output_type": "display_data"
    },
    {
     "data": {
      "text/plain": [
       "The model converged after 36 iterations"
      ]
     },
     "metadata": {},
     "output_type": "display_data"
    },
    {
     "data": {
      "text/plain": [
       "The model converged after 128 iterations"
      ]
     },
     "metadata": {},
     "output_type": "display_data"
    },
    {
     "data": {
      "text/plain": [
       "The model converged after 408 iterations"
      ]
     },
     "metadata": {},
     "output_type": "display_data"
    },
    {
     "data": {
      "text/plain": [
       "2"
      ]
     },
     "execution_count": 2,
     "metadata": {},
     "output_type": "execute_result"
    }
   ],
   "source": [
    "bdata.models.calc_models()"
   ]
  },
  {
   "cell_type": "markdown",
   "id": "4e5d5dfe",
   "metadata": {},
   "source": [
    "We were actually creating several `H2MM_result` objects. \n",
    "These can be referenced directly as indexes of the `H2MM_list` object"
   ]
  },
  {
   "cell_type": "code",
   "execution_count": 3,
   "id": "3c6ea309",
   "metadata": {},
   "outputs": [
    {
     "data": {
      "text/plain": [
       "burstH2MM.BurstSort.H2MM_result"
      ]
     },
     "execution_count": 3,
     "metadata": {},
     "output_type": "execute_result"
    }
   ],
   "source": [
    "amodel = bdata.models[0]\n",
    "type(amodel)"
   ]
  },
  {
   "cell_type": "markdown",
   "id": "e2f10748",
   "metadata": {},
   "source": [
    "From these `H2MM_result` objects, we have access to the whole set of model- and dwell-based parameters of that particular optimization.\n",
    "\n",
    "> **Note**\n",
    "> \n",
    "> Referencing an index under a `H2MM_result` object is identical to referencing an index of the attribute `H2MM_list.opts`\n",
    "> `H2MM_list.opts` stores all the results in a list, and `H2MM_list` automatically treates indexing itself as indexing the list."
   ]
  },
  {
   "cell_type": "code",
   "execution_count": 4,
   "id": "508416fd",
   "metadata": {},
   "outputs": [
    {
     "data": {
      "text/plain": [
       "True"
      ]
     },
     "execution_count": 4,
     "metadata": {},
     "output_type": "execute_result"
    }
   ],
   "source": [
    "bdata.models[0] is bdata.models.opts[0]"
   ]
  },
  {
   "cell_type": "markdown",
   "id": "811c70be",
   "metadata": {},
   "source": [
    "When you run `BurstData.auto_div()` or `BurstData.new_div()`, a similar behavior occurs, where a new `H2MM_result` object is created, and placed inside the `BurstData.div_models` dictionary. \n",
    "So, looking at those results, you can access them by the key that was handed back.\n",
    "\n",
    "> Note that we use the name returned."
   ]
  },
  {
   "cell_type": "code",
   "execution_count": 5,
   "id": "7eaa5f5c",
   "metadata": {},
   "outputs": [
    {
     "data": {
      "text/plain": [
       "burstH2MM.BurstSort.H2MM_list"
      ]
     },
     "execution_count": 5,
     "metadata": {},
     "output_type": "execute_result"
    }
   ],
   "source": [
    "name = bdata.auto_div(2)\n",
    "type(bdata.div_models[name])"
   ]
  },
  {
   "cell_type": "markdown",
   "id": "cd9ca8d9",
   "metadata": {},
   "source": [
    "Now, it can be annoying to constantly have to save the name of each new divisor, so burstH2MM offers an alternative: you can specify the name yourself before creating the divisor."
   ]
  },
  {
   "cell_type": "code",
   "execution_count": 6,
   "id": "6048f406",
   "metadata": {},
   "outputs": [
    {
     "data": {
      "text/plain": [
       "burstH2MM.BurstSort.H2MM_list"
      ]
     },
     "execution_count": 6,
     "metadata": {},
     "output_type": "execute_result"
    }
   ],
   "source": [
    "bdata.auto_div(2, name=\"mydivisor\")\n",
    "type(bdata.div_models[\"mydivisor\"])"
   ]
  },
  {
   "cell_type": "markdown",
   "id": "6b32c17d",
   "metadata": {},
   "source": [
    "This can be useful if you have particular reasons for creating a certain divisor.\n",
    "\n",
    "## Examples of Object Refrencing and Creation\n",
    "\n",
    "There are different ways to select/refer to the same objects. \n",
    "So, let’s see different examples of alternative ways to perform the same fundamental calculations.\n",
    "\n",
    "Now, let’s see the code as it was before in the [tutorial](#Tutorial):"
   ]
  },
  {
   "cell_type": "code",
   "execution_count": 7,
   "id": "919ff968",
   "metadata": {},
   "outputs": [
    {
     "data": {
      "text/plain": [
       "[<matplotlib.collections.PathCollection at 0x7fdd290f3910>]"
      ]
     },
     "execution_count": 7,
     "metadata": {},
     "output_type": "execute_result"
    },
    {
     "data": {
      "image/png": "[encoded data removed]",
      "text/plain": [
       "<Figure size 432x288 with 1 Axes>"
      ]
     },
     "metadata": {
      "needs_background": "light"
     },
     "output_type": "display_data"
    }
   ],
   "source": [
    "# calculate models\n",
    "bdata.models.calc_models()\n",
    "bhm.ICL_plot(bdata.models)"
   ]
  },
  {
   "cell_type": "markdown",
   "id": "99128f5d",
   "metadata": {},
   "source": [
    "Which we can re-write as:"
   ]
  },
  {
   "cell_type": "code",
   "execution_count": 8,
   "id": "8fc04a78",
   "metadata": {},
   "outputs": [
    {
     "data": {
      "text/plain": [
       "[<matplotlib.collections.PathCollection at 0x7fdd290053d0>]"
      ]
     },
     "execution_count": 8,
     "metadata": {},
     "output_type": "execute_result"
    },
    {
     "data": {
      "image/png": "[encoded data removed]",
      "text/plain": [
       "<Figure size 432x288 with 1 Axes>"
      ]
     },
     "metadata": {
      "needs_background": "light"
     },
     "output_type": "display_data"
    }
   ],
   "source": [
    "models_list = bdata.models\n",
    "models_list.calc_models()\n",
    "bhm.ICL_plot(models_list)"
   ]
  },
  {
   "cell_type": "markdown",
   "id": "5ccb0c39",
   "metadata": {},
   "source": [
    "Finally, since these models are all connected, we can even swap the last lines like this:"
   ]
  },
  {
   "cell_type": "code",
   "execution_count": 9,
   "id": "506a607b",
   "metadata": {},
   "outputs": [
    {
     "data": {
      "text/plain": [
       "[<matplotlib.collections.PathCollection at 0x7fdd28fe7d30>]"
      ]
     },
     "execution_count": 9,
     "metadata": {},
     "output_type": "execute_result"
    },
    {
     "data": {
      "image/png": "[encoded data removed]",
      "text/plain": [
       "<Figure size 432x288 with 1 Axes>"
      ]
     },
     "metadata": {
      "needs_background": "light"
     },
     "output_type": "display_data"
    }
   ],
   "source": [
    "models_list = bdata.models\n",
    "models_list.calc_models()\n",
    "# models_list refers to the same thing as bdata.models\n",
    "bhm.ICL_plot(bdata.models)"
   ]
  },
  {
   "cell_type": "markdown",
   "id": "db35b280",
   "metadata": {},
   "source": [
    "Now let’s look at this pattern with divisors, first we’ll initiate this code, and pull out the variables"
   ]
  },
  {
   "cell_type": "code",
   "execution_count": 10,
   "id": "6af0ce6e",
   "metadata": {},
   "outputs": [],
   "source": [
    "bdata.auto_div(1, name=\"one_div\")\n",
    "# extract the H2MM_list divisor model into its own variable\n",
    "div_list = bdata.div_models[\"one_div\"]"
   ]
  },
  {
   "cell_type": "markdown",
   "id": "5f20e970",
   "metadata": {},
   "source": [
    "So this:"
   ]
  },
  {
   "cell_type": "code",
   "execution_count": 11,
   "id": "ca18da46",
   "metadata": {},
   "outputs": [
    {
     "data": {
      "text/plain": [
       "The model converged after 1 iterations"
      ]
     },
     "metadata": {},
     "output_type": "display_data"
    },
    {
     "data": {
      "text/plain": [
       "The model converged after 28 iterations"
      ]
     },
     "metadata": {},
     "output_type": "display_data"
    },
    {
     "data": {
      "text/plain": [
       "The model converged after 86 iterations"
      ]
     },
     "metadata": {},
     "output_type": "display_data"
    },
    {
     "data": {
      "text/plain": [
       "The model converged after 397 iterations"
      ]
     },
     "metadata": {},
     "output_type": "display_data"
    },
    {
     "data": {
      "text/plain": [
       "2"
      ]
     },
     "execution_count": 11,
     "metadata": {},
     "output_type": "execute_result"
    }
   ],
   "source": [
    "bdata.div_models[\"one_div\"].calc_models()"
   ]
  },
  {
   "cell_type": "markdown",
   "id": "59774324",
   "metadata": {},
   "source": [
    "is the same as this:"
   ]
  },
  {
   "cell_type": "code",
   "execution_count": 12,
   "id": "5d204338",
   "metadata": {},
   "outputs": [
    {
     "data": {
      "text/plain": [
       "2"
      ]
     },
     "execution_count": 12,
     "metadata": {},
     "output_type": "execute_result"
    }
   ],
   "source": [
    "div_list.calc_models()"
   ]
  },
  {
   "cell_type": "markdown",
   "id": "e03dc97b",
   "metadata": {},
   "source": [
    "That's the end of this How-To, thank you for using burstH2MM."
   ]
  }
 ],
 "metadata": {
  "kernelspec": {
   "display_name": "Python 3 (ipykernel)",
   "language": "python",
   "name": "python3"
  },
  "language_info": {
   "codemirror_mode": {
    "name": "ipython",
    "version": 3
   },
   "file_extension": ".py",
   "mimetype": "text/x-python",
   "name": "python",
   "nbconvert_exporter": "python",
   "pygments_lexer": "ipython3",
   "version": "3.9.12"
  }
 },
 "nbformat": 4,
 "nbformat_minor": 5
}
